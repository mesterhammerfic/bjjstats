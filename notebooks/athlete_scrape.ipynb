{
 "cells": [
  {
   "cell_type": "code",
   "execution_count": 1,
   "id": "a985fe19-9d43-4687-88c1-d1c968c10ea5",
   "metadata": {},
   "outputs": [],
   "source": [
    "import requests\n",
    "import bs4\n",
    "import dataclasses\n",
    "import typing\n",
    "import psycopg2\n",
    "import os"
   ]
  },
  {
   "cell_type": "markdown",
   "id": "d28ebab7-7e8a-4414-b0b8-f0911fab5558",
   "metadata": {},
   "source": [
    "get a list of all athletes"
   ]
  },
  {
   "cell_type": "code",
   "execution_count": 2,
   "id": "e13951e7-84ae-4c42-9748-edf97428892a",
   "metadata": {},
   "outputs": [],
   "source": [
    "DB_URL=os.getenv(\"DB_URL\")\n",
    "connection = psycopg2.connect(\n",
    "    DB_URL,\n",
    ")"
   ]
  },
  {
   "cell_type": "code",
   "execution_count": 3,
   "id": "543a0f6f-5c38-453b-a039-c2c3097cf01f",
   "metadata": {},
   "outputs": [],
   "source": [
    "@dataclasses.dataclass\n",
    "class Athlete:\n",
    "    name: str\n",
    "    nickname: str\n",
    "    url: str"
   ]
  },
  {
   "cell_type": "code",
   "execution_count": 4,
   "id": "214b6e76-2c2f-47d8-a8dd-e3fb264af0fc",
   "metadata": {},
   "outputs": [],
   "source": [
    "def get_urls():\n",
    "    with connection.cursor() as cursor:\n",
    "        cursor.execute(\n",
    "            (\n",
    "                \"SELECT url\"\n",
    "                \" FROM url;\"\n",
    "            ),\n",
    "        )\n",
    "        rows = cursor.fetchall()\n",
    "    return [row[0] for row in rows]"
   ]
  },
  {
   "cell_type": "code",
   "execution_count": 5,
   "id": "e9cc2fd5-74c8-4a96-a64b-5cca4fcb71e8",
   "metadata": {
    "scrolled": true
   },
   "outputs": [],
   "source": [
    "existing_urls = get_urls()"
   ]
  },
  {
   "cell_type": "code",
   "execution_count": 6,
   "id": "d414412c-8225-4c3c-833c-6bfe5d4fcaba",
   "metadata": {},
   "outputs": [],
   "source": [
    "def get_athletes_from_source(athlete_urls: typing.List[str]):\n",
    "    result = []\n",
    "    def row_to_athlete(row: typing.List[bs4.element.Tag]):\n",
    "        name = f\"{data[0].text} {data[1].text}\"\n",
    "        name = name.replace(\"  \", \" \")\n",
    "        return Athlete(\n",
    "            name=name,\n",
    "            nickname=data[2].text,\n",
    "            url=f\"https://www.bjjheroes.com{data[0].find('a').get('href')}\",\n",
    "        )\n",
    "    res = requests.get(\"https://www.bjjheroes.com/a-z-bjj-fighters-list\")\n",
    "    soup = bs4.BeautifulSoup(res.text, 'html.parser')\n",
    "    table = soup.find_all('tr')\n",
    "    for row in table:\n",
    "        data = row.find_all('td')\n",
    "        if data:\n",
    "            a = row_to_athlete(data)\n",
    "            if a.url not in athlete_urls:\n",
    "                result.append(a)\n",
    "    return result"
   ]
  },
  {
   "cell_type": "code",
   "execution_count": 7,
   "id": "484c12d4-68e3-4d68-8396-85d0b48833b1",
   "metadata": {},
   "outputs": [],
   "source": [
    "athletes = get_athletes_from_source(existing_urls)"
   ]
  },
  {
   "cell_type": "code",
   "execution_count": 8,
   "id": "f690677a-33b2-41ce-b825-0ea1592ce9f9",
   "metadata": {},
   "outputs": [
    {
     "data": {
      "text/plain": [
       "1"
      ]
     },
     "execution_count": 8,
     "metadata": {},
     "output_type": "execute_result"
    }
   ],
   "source": [
    "len(athletes)"
   ]
  },
  {
   "cell_type": "markdown",
   "id": "87f9ca7d-49d0-4e9d-8717-d02b69676047",
   "metadata": {},
   "source": [
    "add athletes to athlete table:"
   ]
  },
  {
   "cell_type": "code",
   "execution_count": 15,
   "id": "a3975b08-cb6c-4aa8-892a-42967589e9c9",
   "metadata": {},
   "outputs": [],
   "source": [
    "def add_athlete_to_db(athlete: Athlete):\n",
    "    with connection.cursor() as cursor:\n",
    "        cursor.execute(\n",
    "            (\n",
    "                \"INSERT INTO athlete (name, nickname)\"\n",
    "                \" VALUES (%s, %s)\"\n",
    "                \" RETURNING id\"\n",
    "            ),\n",
    "            (athlete.name, athlete.nickname),\n",
    "        )\n",
    "        id_row = cursor.fetchone()\n",
    "        id = id_row[0]\n",
    "        \n",
    "        cursor.execute(\n",
    "            (\n",
    "                \"INSERT INTO url (url, athlete_id)\"\n",
    "                \" VALUES (%s, %s)\"\n",
    "            ),\n",
    "            (athlete.url, id),\n",
    "        )\n",
    "        connection.commit()"
   ]
  },
  {
   "cell_type": "code",
   "execution_count": 16,
   "id": "28f60bbd-fa26-4e0a-9373-9f50e3fd5651",
   "metadata": {},
   "outputs": [],
   "source": [
    "for athlete in athletes:\n",
    "    add_athlete_to_db(athlete)"
   ]
  },
  {
   "cell_type": "code",
   "execution_count": null,
   "id": "1b5d8790-644a-4920-ad1f-eabad2382299",
   "metadata": {},
   "outputs": [],
   "source": []
  },
  {
   "cell_type": "code",
   "execution_count": null,
   "id": "9047c9c5-59cf-440d-9bc1-ed9bdb772a4a",
   "metadata": {},
   "outputs": [],
   "source": []
  }
 ],
 "metadata": {
  "kernelspec": {
   "display_name": "Python 3 (ipykernel)",
   "language": "python",
   "name": "python3"
  },
  "language_info": {
   "codemirror_mode": {
    "name": "ipython",
    "version": 3
   },
   "file_extension": ".py",
   "mimetype": "text/x-python",
   "name": "python",
   "nbconvert_exporter": "python",
   "pygments_lexer": "ipython3",
   "version": "3.10.12"
  }
 },
 "nbformat": 4,
 "nbformat_minor": 5
}
